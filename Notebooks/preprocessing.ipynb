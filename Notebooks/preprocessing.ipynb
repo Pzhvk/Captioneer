{
  "nbformat": 4,
  "nbformat_minor": 0,
  "metadata": {
    "colab": {
      "provenance": []
    },
    "kernelspec": {
      "name": "python3",
      "display_name": "Python 3"
    },
    "language_info": {
      "name": "python"
    },
    "widgets": {
      "application/vnd.jupyter.widget-state+json": {
        "2a298a7398f7402ca9e6f769c38386d2": {
          "model_module": "@jupyter-widgets/controls",
          "model_name": "HBoxModel",
          "model_module_version": "1.5.0",
          "state": {
            "_dom_classes": [],
            "_model_module": "@jupyter-widgets/controls",
            "_model_module_version": "1.5.0",
            "_model_name": "HBoxModel",
            "_view_count": null,
            "_view_module": "@jupyter-widgets/controls",
            "_view_module_version": "1.5.0",
            "_view_name": "HBoxView",
            "box_style": "",
            "children": [
              "IPY_MODEL_80b1695818df4b9ea6cc6ea3da96c35f",
              "IPY_MODEL_bd056a22bfc54764a58e0c421b9ec23c",
              "IPY_MODEL_8687bcc9ab774f4abbbf6b1bd6157f47"
            ],
            "layout": "IPY_MODEL_716e68ff4a8649d2846abd6ebdce3df5"
          }
        },
        "80b1695818df4b9ea6cc6ea3da96c35f": {
          "model_module": "@jupyter-widgets/controls",
          "model_name": "HTMLModel",
          "model_module_version": "1.5.0",
          "state": {
            "_dom_classes": [],
            "_model_module": "@jupyter-widgets/controls",
            "_model_module_version": "1.5.0",
            "_model_name": "HTMLModel",
            "_view_count": null,
            "_view_module": "@jupyter-widgets/controls",
            "_view_module_version": "1.5.0",
            "_view_name": "HTMLView",
            "description": "",
            "description_tooltip": null,
            "layout": "IPY_MODEL_f934e393fb144c6296f1a606579d21fe",
            "placeholder": "​",
            "style": "IPY_MODEL_7e1a749413ce4a54b844debbbce25f9c",
            "value": "Extracting features: 100%"
          }
        },
        "bd056a22bfc54764a58e0c421b9ec23c": {
          "model_module": "@jupyter-widgets/controls",
          "model_name": "FloatProgressModel",
          "model_module_version": "1.5.0",
          "state": {
            "_dom_classes": [],
            "_model_module": "@jupyter-widgets/controls",
            "_model_module_version": "1.5.0",
            "_model_name": "FloatProgressModel",
            "_view_count": null,
            "_view_module": "@jupyter-widgets/controls",
            "_view_module_version": "1.5.0",
            "_view_name": "ProgressView",
            "bar_style": "success",
            "description": "",
            "description_tooltip": null,
            "layout": "IPY_MODEL_dee88f7a4d1743c6a3bdb08c1bfd4deb",
            "max": 994,
            "min": 0,
            "orientation": "horizontal",
            "style": "IPY_MODEL_2869d83c57ec47e58429241bfcc5f15f",
            "value": 994
          }
        },
        "8687bcc9ab774f4abbbf6b1bd6157f47": {
          "model_module": "@jupyter-widgets/controls",
          "model_name": "HTMLModel",
          "model_module_version": "1.5.0",
          "state": {
            "_dom_classes": [],
            "_model_module": "@jupyter-widgets/controls",
            "_model_module_version": "1.5.0",
            "_model_name": "HTMLModel",
            "_view_count": null,
            "_view_module": "@jupyter-widgets/controls",
            "_view_module_version": "1.5.0",
            "_view_name": "HTMLView",
            "description": "",
            "description_tooltip": null,
            "layout": "IPY_MODEL_362c3d97a1cc4dd880260313c3e52efd",
            "placeholder": "​",
            "style": "IPY_MODEL_77bd315945154ff7b2e7266fe5c8d0d3",
            "value": " 994/994 [04:46&lt;00:00,  3.69it/s]"
          }
        },
        "716e68ff4a8649d2846abd6ebdce3df5": {
          "model_module": "@jupyter-widgets/base",
          "model_name": "LayoutModel",
          "model_module_version": "1.2.0",
          "state": {
            "_model_module": "@jupyter-widgets/base",
            "_model_module_version": "1.2.0",
            "_model_name": "LayoutModel",
            "_view_count": null,
            "_view_module": "@jupyter-widgets/base",
            "_view_module_version": "1.2.0",
            "_view_name": "LayoutView",
            "align_content": null,
            "align_items": null,
            "align_self": null,
            "border": null,
            "bottom": null,
            "display": null,
            "flex": null,
            "flex_flow": null,
            "grid_area": null,
            "grid_auto_columns": null,
            "grid_auto_flow": null,
            "grid_auto_rows": null,
            "grid_column": null,
            "grid_gap": null,
            "grid_row": null,
            "grid_template_areas": null,
            "grid_template_columns": null,
            "grid_template_rows": null,
            "height": null,
            "justify_content": null,
            "justify_items": null,
            "left": null,
            "margin": null,
            "max_height": null,
            "max_width": null,
            "min_height": null,
            "min_width": null,
            "object_fit": null,
            "object_position": null,
            "order": null,
            "overflow": null,
            "overflow_x": null,
            "overflow_y": null,
            "padding": null,
            "right": null,
            "top": null,
            "visibility": null,
            "width": null
          }
        },
        "f934e393fb144c6296f1a606579d21fe": {
          "model_module": "@jupyter-widgets/base",
          "model_name": "LayoutModel",
          "model_module_version": "1.2.0",
          "state": {
            "_model_module": "@jupyter-widgets/base",
            "_model_module_version": "1.2.0",
            "_model_name": "LayoutModel",
            "_view_count": null,
            "_view_module": "@jupyter-widgets/base",
            "_view_module_version": "1.2.0",
            "_view_name": "LayoutView",
            "align_content": null,
            "align_items": null,
            "align_self": null,
            "border": null,
            "bottom": null,
            "display": null,
            "flex": null,
            "flex_flow": null,
            "grid_area": null,
            "grid_auto_columns": null,
            "grid_auto_flow": null,
            "grid_auto_rows": null,
            "grid_column": null,
            "grid_gap": null,
            "grid_row": null,
            "grid_template_areas": null,
            "grid_template_columns": null,
            "grid_template_rows": null,
            "height": null,
            "justify_content": null,
            "justify_items": null,
            "left": null,
            "margin": null,
            "max_height": null,
            "max_width": null,
            "min_height": null,
            "min_width": null,
            "object_fit": null,
            "object_position": null,
            "order": null,
            "overflow": null,
            "overflow_x": null,
            "overflow_y": null,
            "padding": null,
            "right": null,
            "top": null,
            "visibility": null,
            "width": null
          }
        },
        "7e1a749413ce4a54b844debbbce25f9c": {
          "model_module": "@jupyter-widgets/controls",
          "model_name": "DescriptionStyleModel",
          "model_module_version": "1.5.0",
          "state": {
            "_model_module": "@jupyter-widgets/controls",
            "_model_module_version": "1.5.0",
            "_model_name": "DescriptionStyleModel",
            "_view_count": null,
            "_view_module": "@jupyter-widgets/base",
            "_view_module_version": "1.2.0",
            "_view_name": "StyleView",
            "description_width": ""
          }
        },
        "dee88f7a4d1743c6a3bdb08c1bfd4deb": {
          "model_module": "@jupyter-widgets/base",
          "model_name": "LayoutModel",
          "model_module_version": "1.2.0",
          "state": {
            "_model_module": "@jupyter-widgets/base",
            "_model_module_version": "1.2.0",
            "_model_name": "LayoutModel",
            "_view_count": null,
            "_view_module": "@jupyter-widgets/base",
            "_view_module_version": "1.2.0",
            "_view_name": "LayoutView",
            "align_content": null,
            "align_items": null,
            "align_self": null,
            "border": null,
            "bottom": null,
            "display": null,
            "flex": null,
            "flex_flow": null,
            "grid_area": null,
            "grid_auto_columns": null,
            "grid_auto_flow": null,
            "grid_auto_rows": null,
            "grid_column": null,
            "grid_gap": null,
            "grid_row": null,
            "grid_template_areas": null,
            "grid_template_columns": null,
            "grid_template_rows": null,
            "height": null,
            "justify_content": null,
            "justify_items": null,
            "left": null,
            "margin": null,
            "max_height": null,
            "max_width": null,
            "min_height": null,
            "min_width": null,
            "object_fit": null,
            "object_position": null,
            "order": null,
            "overflow": null,
            "overflow_x": null,
            "overflow_y": null,
            "padding": null,
            "right": null,
            "top": null,
            "visibility": null,
            "width": null
          }
        },
        "2869d83c57ec47e58429241bfcc5f15f": {
          "model_module": "@jupyter-widgets/controls",
          "model_name": "ProgressStyleModel",
          "model_module_version": "1.5.0",
          "state": {
            "_model_module": "@jupyter-widgets/controls",
            "_model_module_version": "1.5.0",
            "_model_name": "ProgressStyleModel",
            "_view_count": null,
            "_view_module": "@jupyter-widgets/base",
            "_view_module_version": "1.2.0",
            "_view_name": "StyleView",
            "bar_color": null,
            "description_width": ""
          }
        },
        "362c3d97a1cc4dd880260313c3e52efd": {
          "model_module": "@jupyter-widgets/base",
          "model_name": "LayoutModel",
          "model_module_version": "1.2.0",
          "state": {
            "_model_module": "@jupyter-widgets/base",
            "_model_module_version": "1.2.0",
            "_model_name": "LayoutModel",
            "_view_count": null,
            "_view_module": "@jupyter-widgets/base",
            "_view_module_version": "1.2.0",
            "_view_name": "LayoutView",
            "align_content": null,
            "align_items": null,
            "align_self": null,
            "border": null,
            "bottom": null,
            "display": null,
            "flex": null,
            "flex_flow": null,
            "grid_area": null,
            "grid_auto_columns": null,
            "grid_auto_flow": null,
            "grid_auto_rows": null,
            "grid_column": null,
            "grid_gap": null,
            "grid_row": null,
            "grid_template_areas": null,
            "grid_template_columns": null,
            "grid_template_rows": null,
            "height": null,
            "justify_content": null,
            "justify_items": null,
            "left": null,
            "margin": null,
            "max_height": null,
            "max_width": null,
            "min_height": null,
            "min_width": null,
            "object_fit": null,
            "object_position": null,
            "order": null,
            "overflow": null,
            "overflow_x": null,
            "overflow_y": null,
            "padding": null,
            "right": null,
            "top": null,
            "visibility": null,
            "width": null
          }
        },
        "77bd315945154ff7b2e7266fe5c8d0d3": {
          "model_module": "@jupyter-widgets/controls",
          "model_name": "DescriptionStyleModel",
          "model_module_version": "1.5.0",
          "state": {
            "_model_module": "@jupyter-widgets/controls",
            "_model_module_version": "1.5.0",
            "_model_name": "DescriptionStyleModel",
            "_view_count": null,
            "_view_module": "@jupyter-widgets/base",
            "_view_module_version": "1.2.0",
            "_view_name": "StyleView",
            "description_width": ""
          }
        }
      }
    }
  },
  "cells": [
    {
      "cell_type": "markdown",
      "source": [
        "# Note\n",
        "Paths are set for colab, adjust if running locally"
      ],
      "metadata": {
        "id": "RJcbn_AKRhJa"
      }
    },
    {
      "cell_type": "markdown",
      "source": [
        "# Using Kaggle to download the dataset"
      ],
      "metadata": {
        "id": "Q4hwitVbmWVy"
      }
    },
    {
      "cell_type": "code",
      "source": [
        "from google.colab import files\n",
        "import kagglehub\n",
        "\n",
        "files.upload()"
      ],
      "metadata": {
        "id": "GkZuyFyCkk9Y"
      },
      "execution_count": null,
      "outputs": []
    },
    {
      "cell_type": "code",
      "source": [
        "!mkdir -p ~/.kaggle\n",
        "!cp kaggle.json ~/.kaggle/\n",
        "!chmod 600 ~/.kaggle/kaggle.json\n",
        "path = kagglehub.dataset_download(\"eeshawn/flickr30k\")"
      ],
      "metadata": {
        "id": "4iQoC6fOMMxP"
      },
      "execution_count": null,
      "outputs": []
    },
    {
      "cell_type": "markdown",
      "source": [
        "# Mounting Drive"
      ],
      "metadata": {
        "id": "_LjFW-3Ov8ry"
      }
    },
    {
      "cell_type": "code",
      "source": [
        "from google.colab import drive\n",
        "drive.mount('/content/drive')"
      ],
      "metadata": {
        "id": "WoyZZbUbuTiy"
      },
      "execution_count": null,
      "outputs": []
    },
    {
      "cell_type": "markdown",
      "source": [
        "# Processing captions\n",
        "needs preprocess_captions.py for running"
      ],
      "metadata": {
        "id": "i-pMLz16mmR7"
      }
    },
    {
      "cell_type": "code",
      "source": [
        "import sys\n",
        "sys.path.append('/content')\n",
        "from preprocess_captions import preprocess_and_save"
      ],
      "metadata": {
        "id": "D8UW7rw6fbB5"
      },
      "execution_count": null,
      "outputs": []
    },
    {
      "cell_type": "code",
      "source": [
        "csv_path = \"/root/.cache/kagglehub/datasets/eeshawn/flickr30k/versions/1/captions.txt\" # update with your dataset path\n",
        "local_out_caption = \"/content/processed_captions\" # local output\n",
        "drive_out_caption = \"/content/drive/MyDrive/captioneer/processed_captions\" # optional for saving to google drive"
      ],
      "metadata": {
        "id": "TYS10XZCflml"
      },
      "execution_count": null,
      "outputs": []
    },
    {
      "cell_type": "code",
      "source": [
        "result = preprocess_and_save(csv_path, local_out_caption, vocab_size=5000, max_len=30)\n",
        "print(result[\"meta\"])"
      ],
      "metadata": {
        "colab": {
          "base_uri": "https://localhost:8080/"
        },
        "id": "aAThRGw0fzwB",
        "outputId": "94c1c05f-fe49-48e7-9ad5-b59de2b7094b"
      },
      "execution_count": null,
      "outputs": [
        {
          "output_type": "stream",
          "name": "stdout",
          "text": [
            "{'vocab_size': 4998, 'num_images': 31783, 'max_len': 30, 'split_counts': {'train': 25426, 'val': 3178, 'test': 3179}}\n"
          ]
        }
      ]
    },
    {
      "cell_type": "markdown",
      "source": [
        "# Checking captions"
      ],
      "metadata": {
        "id": "nM5ovK5cnnRT"
      }
    },
    {
      "cell_type": "markdown",
      "source": [
        "## Checking vocab"
      ],
      "metadata": {
        "id": "Zn3ELIXDnzRN"
      }
    },
    {
      "cell_type": "code",
      "source": [
        "import json\n",
        "\n",
        "with open(os.path.join(local_out_caption, \"vocab_word2idx.json\"), \"r\") as f:\n",
        "    word2idx = json.load(f)\n",
        "\n",
        "print(\"Vocabulary size:\", len(word2idx))\n",
        "print(\"Some sample words:\", list(word2idx.keys())[:20])"
      ],
      "metadata": {
        "colab": {
          "base_uri": "https://localhost:8080/"
        },
        "id": "0iI5skB0npvo",
        "outputId": "caf2139e-41cf-45bd-d8f3-aa8c0e3fd6e1"
      },
      "execution_count": null,
      "outputs": [
        {
          "output_type": "stream",
          "name": "stdout",
          "text": [
            "Vocabulary size: 4998\n",
            "Some sample words: ['<PAD>', '<UNK>', '<START>', '<END>', 'a', 'in', 'the', 'on', 'man', 'and', 'is', 'of', 'with', 'woman', 'two', 'are', 'people', 'to', 'at', 'an']\n"
          ]
        }
      ]
    },
    {
      "cell_type": "markdown",
      "source": [
        "## Checking captions"
      ],
      "metadata": {
        "id": "_uLpCJgPn2Rk"
      }
    },
    {
      "cell_type": "code",
      "source": [
        "with open(os.path.join(local_out_caption, \"cleaned_captions.json\"), \"r\") as f:\n",
        "    cleaned_captions = json.load(f)\n",
        "\n",
        "# Pick 5 random images and print their captions\n",
        "import random\n",
        "sample_imgs = random.sample(list(cleaned_captions.keys()), 5)\n",
        "\n",
        "for img in sample_imgs:\n",
        "    print(\"\\nImage:\", img)\n",
        "    for cap in cleaned_captions[img]:\n",
        "        print(\" \", cap)\n"
      ],
      "metadata": {
        "colab": {
          "base_uri": "https://localhost:8080/"
        },
        "id": "TdTz5Ewun4YE",
        "outputId": "1fbb4ac4-cdf9-46de-ba95-54739d5939c8"
      },
      "execution_count": null,
      "outputs": [
        {
          "output_type": "stream",
          "name": "stdout",
          "text": [
            "\n",
            "Image: 8063954905.jpg\n",
            "  <START> a young girl in a traditional white karate uniform demonstrates her skill <END>\n",
            "  <START> a little girl is practicing karate with people in the background <END>\n",
            "  <START> young girl performing martial arts very passionately <END>\n",
            "  <START> a girl is performing karate in front of people <END>\n",
            "  <START> a young girl in a karate competition <END>\n",
            "\n",
            "Image: 4824548067.jpg\n",
            "  <START> a blond woman giving a piggyback ride to a blond girl in a pink coat and headphones <END>\n",
            "  <START> a woman carries a child wearing green earphones on her back <END>\n",
            "  <START> a woman holding her daughter on her shoulders walking <END>\n",
            "  <START> a chile in a pink jacket on a woman shoulders <END>\n",
            "  <START> a woman carries a young girl on her shoulders <END>\n",
            "\n",
            "Image: 4677416815.jpg\n",
            "  <START> a woman with long hair and wearing high heels is carrying something as she is walking beside a fence <END>\n",
            "  <START> a woman wearing high heels and a long white screen printed tshirt walks by carrying shopping bags <END>\n",
            "  <START> a woman carrying several bags is walking on the sidewalk <END>\n",
            "  <START> a young woman walks alone through a bus terminal <END>\n",
            "  <START> a woman walking with bags <END>\n",
            "\n",
            "Image: 4204621843.jpg\n",
            "  <START> a person in a coat is walking through snow by the light of a street lamp <END>\n",
            "  <START> a person walks on a snowy sidewalk lit by street lamps at night <END>\n",
            "  <START> a person is walking through a snow covered street at night <END>\n",
            "  <START> a person walking along a snow covered walkway at night <END>\n",
            "  <START> some walking on a snowy path in the dark moonlit night <END>\n",
            "\n",
            "Image: 3019667009.jpg\n",
            "  <START> two boys are playing on very old architectural structures <END>\n",
            "  <START> a boy dances as another boy stands on a short brick wall <END>\n",
            "  <START> two people stand outside near an arched doorway <END>\n",
            "  <START> young boys playing in front of fortess gate <END>\n",
            "  <START> two boys play outside a building <END>\n"
          ]
        }
      ]
    },
    {
      "cell_type": "markdown",
      "source": [
        "## Checking seqs"
      ],
      "metadata": {
        "id": "nc0ZrmVxodgW"
      }
    },
    {
      "cell_type": "code",
      "source": [
        "with open(os.path.join(local_out_caption, \"sequences_train.json\"), \"r\") as f:\n",
        "    sequences_train = json.load(f)\n",
        "\n",
        "# Show first image sequence\n",
        "first_img = list(sequences_train.keys())[0]\n",
        "print(\"\\nFirst training image:\", first_img)\n",
        "print(\"Sequences (word indices):\", sequences_train[first_img])\n"
      ],
      "metadata": {
        "colab": {
          "base_uri": "https://localhost:8080/"
        },
        "id": "_BX_9Muqog0u",
        "outputId": "0179ba67-0390-40a0-dece-9e60989236e4"
      },
      "execution_count": null,
      "outputs": [
        {
          "output_type": "stream",
          "name": "stdout",
          "text": [
            "\n",
            "First training image: 3328495660.jpg\n",
            "Sequences (word indices): [[5, 45, 15, 571, 4065, 9, 4, 1, 27, 80, 15, 2956, 4, 1, 114, 6, 0, 0, 0, 0, 0, 0, 0, 0, 0, 0, 0, 0, 0, 0], [5, 16, 93, 1, 4, 861, 30, 7, 1500, 402, 6, 0, 0, 0, 0, 0, 0, 0, 0, 0, 0, 0, 0, 0, 0, 0, 0, 0, 0, 0], [5, 47, 18, 17, 402, 259, 4, 95, 2836, 6, 0, 0, 0, 0, 0, 0, 0, 0, 0, 0, 0, 0, 0, 0, 0, 0, 0, 0, 0, 0], [5, 47, 49, 156, 137, 83, 3011, 1056, 6, 0, 0, 0, 0, 0, 0, 0, 0, 0, 0, 0, 0, 0, 0, 0, 0, 0, 0, 0, 0, 0], [5, 47, 49, 156, 7, 4, 1500, 6, 0, 0, 0, 0, 0, 0, 0, 0, 0, 0, 0, 0, 0, 0, 0, 0, 0, 0, 0, 0, 0, 0]]\n"
          ]
        }
      ]
    },
    {
      "cell_type": "markdown",
      "source": [
        "# Saving to drive"
      ],
      "metadata": {
        "id": "KKl1maEsnjC6"
      }
    },
    {
      "cell_type": "code",
      "source": [
        "import shutil\n",
        "import os\n",
        "\n",
        "if os.path.exists(drive_out_caption):\n",
        "    shutil.rmtree(drive_out_caption)\n",
        "\n",
        "shutil.copytree(local_out_caption, drive_out_caption)\n",
        "print(\"Saved preprocessed captions to Drive at:\", drive_out_caption)"
      ],
      "metadata": {
        "id": "BouGUtKum6NI"
      },
      "execution_count": null,
      "outputs": []
    },
    {
      "cell_type": "markdown",
      "source": [
        "# Processing Images\n",
        "needs preprocess_images.py for running"
      ],
      "metadata": {
        "id": "SS3rM5njwo1e"
      }
    },
    {
      "cell_type": "code",
      "source": [
        "from preprocess_images import preprocess_images\n",
        "\n",
        "img_dir = '/root/.cache/kagglehub/datasets/eeshawn/flickr30k/versions/1/flickr30k_images' # update with your dataset path\n",
        "local_out_img = '/content/processed_images' # local output\n",
        "drive_out_img = '/content/drive/MyDrive/captioneer/processed_images' # optional for saving to google drive\n",
        "\n",
        "result = preprocess_images(img_dir, local_out_img, batch_size=32)\n",
        "print(f\"Extracted features for {result['num_images']} images\")\n"
      ],
      "metadata": {
        "colab": {
          "base_uri": "https://localhost:8080/",
          "height": 66,
          "referenced_widgets": [
            "2a298a7398f7402ca9e6f769c38386d2",
            "80b1695818df4b9ea6cc6ea3da96c35f",
            "bd056a22bfc54764a58e0c421b9ec23c",
            "8687bcc9ab774f4abbbf6b1bd6157f47",
            "716e68ff4a8649d2846abd6ebdce3df5",
            "f934e393fb144c6296f1a606579d21fe",
            "7e1a749413ce4a54b844debbbce25f9c",
            "dee88f7a4d1743c6a3bdb08c1bfd4deb",
            "2869d83c57ec47e58429241bfcc5f15f",
            "362c3d97a1cc4dd880260313c3e52efd",
            "77bd315945154ff7b2e7266fe5c8d0d3"
          ]
        },
        "id": "sxiK3vQVwrO_",
        "outputId": "ffc060c5-d9cd-4914-d413-2d768b47ab75"
      },
      "execution_count": null,
      "outputs": [
        {
          "output_type": "display_data",
          "data": {
            "text/plain": [
              "Extracting features:   0%|          | 0/994 [00:00<?, ?it/s]"
            ],
            "application/vnd.jupyter.widget-view+json": {
              "version_major": 2,
              "version_minor": 0,
              "model_id": "2a298a7398f7402ca9e6f769c38386d2"
            }
          },
          "metadata": {}
        },
        {
          "output_type": "stream",
          "name": "stdout",
          "text": [
            "Extracted features for 31783 images\n"
          ]
        }
      ]
    },
    {
      "cell_type": "markdown",
      "source": [
        "# Checking Features"
      ],
      "metadata": {
        "id": "oqeHaUEQ4Bsu"
      }
    },
    {
      "cell_type": "code",
      "source": [
        "import numpy as np\n",
        "import os\n",
        "\n",
        "sample_file = os.path.join(local_out_img, '1000092795.npy')\n",
        "feat = np.load(sample_file)\n",
        "print(\"Feature shape:\", feat.shape)  # should be (2048,)\n"
      ],
      "metadata": {
        "colab": {
          "base_uri": "https://localhost:8080/"
        },
        "id": "d6Slvhl-4CCT",
        "outputId": "7be61514-f06b-4f11-d7c9-e48dc8ff10b1"
      },
      "execution_count": null,
      "outputs": [
        {
          "output_type": "stream",
          "name": "stdout",
          "text": [
            "Feature shape: (2048,)\n"
          ]
        }
      ]
    },
    {
      "cell_type": "markdown",
      "source": [
        "# Saving to drive"
      ],
      "metadata": {
        "id": "G3HTCWCo2cNE"
      }
    },
    {
      "cell_type": "code",
      "source": [
        "shutil.copytree(local_out_img, drive_out_img)\n",
        "print(f\"Copied features to Drive at {drive_out_img}\")"
      ],
      "metadata": {
        "id": "QvL12Gvs1rIj"
      },
      "execution_count": null,
      "outputs": []
    },
    {
      "cell_type": "markdown",
      "source": [
        "# Saving Scripts To Drive"
      ],
      "metadata": {
        "id": "qB3yJ1EF2men"
      }
    },
    {
      "cell_type": "code",
      "source": [
        "import os\n",
        "import shutil\n",
        "\n",
        "captions_script_src = '/content/preprocess_captions.py'\n",
        "images_script_src = '/content/preprocess_images.py'\n",
        "\n",
        "scripts_dir = '/content/drive/MyDrive/captioneer/scripts'\n",
        "os.makedirs(scripts_dir, exist_ok=True)\n",
        "\n",
        "for src in [captions_script_src, images_script_src]:\n",
        "    dst = os.path.join(scripts_dir, os.path.basename(src))\n",
        "    if os.path.exists(dst):\n",
        "        os.remove(dst)  # remove existing file\n",
        "    shutil.copy(src, dst)\n",
        "\n",
        "print(f\"Scripts copied to {scripts_dir} (existing files replaced)\")"
      ],
      "metadata": {
        "id": "dEjzm1f-v_Lw"
      },
      "execution_count": null,
      "outputs": []
    }
  ]
}