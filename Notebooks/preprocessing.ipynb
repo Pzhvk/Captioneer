{
  "nbformat": 4,
  "nbformat_minor": 0,
  "metadata": {
    "colab": {
      "provenance": [],
      "gpuType": "T4"
    },
    "kernelspec": {
      "name": "python3",
      "display_name": "Python 3"
    },
    "language_info": {
      "name": "python"
    },
    "accelerator": "GPU"
  },
  "cells": [
    {
      "cell_type": "markdown",
      "source": [
        "# Note\n",
        "Paths are set for colab, adjust if running locally"
      ],
      "metadata": {
        "id": "RJcbn_AKRhJa"
      }
    },
    {
      "cell_type": "markdown",
      "source": [
        "# Using Kaggle to download the dataset"
      ],
      "metadata": {
        "id": "Q4hwitVbmWVy"
      }
    },
    {
      "cell_type": "code",
      "source": [
        "from google.colab import files\n",
        "import kagglehub\n",
        "\n",
        "files.upload()"
      ],
      "metadata": {
        "id": "GkZuyFyCkk9Y"
      },
      "execution_count": null,
      "outputs": []
    },
    {
      "cell_type": "code",
      "source": [
        "!mkdir -p ~/.kaggle\n",
        "!cp kaggle.json ~/.kaggle/\n",
        "!chmod 600 ~/.kaggle/kaggle.json\n",
        "path = kagglehub.dataset_download(\"eeshawn/flickr30k\")"
      ],
      "metadata": {
        "id": "4iQoC6fOMMxP"
      },
      "execution_count": null,
      "outputs": []
    },
    {
      "cell_type": "markdown",
      "source": [
        "# Mounting Drive"
      ],
      "metadata": {
        "id": "_LjFW-3Ov8ry"
      }
    },
    {
      "cell_type": "code",
      "source": [
        "from google.colab import drive\n",
        "drive.mount('/content/drive')"
      ],
      "metadata": {
        "id": "WoyZZbUbuTiy"
      },
      "execution_count": null,
      "outputs": []
    },
    {
      "cell_type": "markdown",
      "source": [
        "# Processing captions\n",
        "needs preprocess_captions.py for running"
      ],
      "metadata": {
        "id": "i-pMLz16mmR7"
      }
    },
    {
      "cell_type": "code",
      "source": [
        "import sys\n",
        "sys.path.append('/content')\n",
        "from preprocess_captions import preprocess_and_save"
      ],
      "metadata": {
        "id": "D8UW7rw6fbB5"
      },
      "execution_count": null,
      "outputs": []
    },
    {
      "cell_type": "code",
      "source": [
        "csv_path = \"/root/.cache/kagglehub/datasets/eeshawn/flickr30k/versions/1/captions.txt\" # update with your dataset path\n",
        "local_out_caption = \"/content/processed_captions\" # local output\n",
        "drive_out_caption = \"/content/drive/MyDrive/captioneer/processed_captions\" # optional for saving to google drive"
      ],
      "metadata": {
        "id": "TYS10XZCflml"
      },
      "execution_count": null,
      "outputs": []
    },
    {
      "cell_type": "code",
      "source": [
        "result = preprocess_and_save(csv_path, local_out_caption, vocab_size=5000, max_len=30)\n",
        "print(result[\"meta\"])"
      ],
      "metadata": {
        "colab": {
          "base_uri": "https://localhost:8080/"
        },
        "id": "aAThRGw0fzwB",
        "outputId": "0580248f-9873-4d5f-a3a7-c0cdaf976928"
      },
      "execution_count": null,
      "outputs": [
        {
          "output_type": "stream",
          "name": "stdout",
          "text": [
            "{'vocab_size': 4998, 'num_images': 31783, 'max_len': 30, 'split_counts': {'train': 25426, 'val': 3178, 'test': 3179}}\n"
          ]
        }
      ]
    },
    {
      "cell_type": "markdown",
      "source": [
        "# Checking captions"
      ],
      "metadata": {
        "id": "nM5ovK5cnnRT"
      }
    },
    {
      "cell_type": "markdown",
      "source": [
        "## Checking vocab"
      ],
      "metadata": {
        "id": "Zn3ELIXDnzRN"
      }
    },
    {
      "cell_type": "code",
      "source": [
        "import json\n",
        "import os\n",
        "\n",
        "with open(os.path.join(local_out_caption, \"vocab_word2idx.json\"), \"r\") as f:\n",
        "    word2idx = json.load(f)\n",
        "\n",
        "print(\"Vocabulary size:\", len(word2idx))\n",
        "print(\"Some sample words:\", list(word2idx.keys())[:20])"
      ],
      "metadata": {
        "colab": {
          "base_uri": "https://localhost:8080/"
        },
        "id": "0iI5skB0npvo",
        "outputId": "d87cd5ef-a26d-4b83-8305-1cd28ffdc07f"
      },
      "execution_count": null,
      "outputs": [
        {
          "output_type": "stream",
          "name": "stdout",
          "text": [
            "Vocabulary size: 4998\n",
            "Some sample words: ['<PAD>', '<UNK>', '<START>', '<END>', 'a', 'in', 'the', 'on', 'man', 'and', 'is', 'of', 'with', 'woman', 'two', 'are', 'people', 'to', 'at', 'an']\n"
          ]
        }
      ]
    },
    {
      "cell_type": "markdown",
      "source": [
        "## Checking captions"
      ],
      "metadata": {
        "id": "_uLpCJgPn2Rk"
      }
    },
    {
      "cell_type": "code",
      "source": [
        "with open(os.path.join(local_out_caption, \"cleaned_captions.json\"), \"r\") as f:\n",
        "    cleaned_captions = json.load(f)\n",
        "\n",
        "# Pick 5 random images and print their captions\n",
        "import random\n",
        "sample_imgs = random.sample(list(cleaned_captions.keys()), 5)\n",
        "\n",
        "for img in sample_imgs:\n",
        "    print(\"\\nImage:\", img)\n",
        "    for cap in cleaned_captions[img]:\n",
        "        print(\" \", cap)\n"
      ],
      "metadata": {
        "colab": {
          "base_uri": "https://localhost:8080/"
        },
        "id": "TdTz5Ewun4YE",
        "outputId": "92a8e5f3-14b0-4196-db77-7beb2104cc73"
      },
      "execution_count": null,
      "outputs": [
        {
          "output_type": "stream",
          "name": "stdout",
          "text": [
            "\n",
            "Image: 7173939318.jpg\n",
            "  <START> amidst a busy dock comes a red and white ship with a landscape of mountains and possibly middleeastern territory <END>\n",
            "  <START> pier with groups of people some with fishing poles boats in water and buildings and monuments in background <END>\n",
            "  <START> a beautiful seaside scene with people on a dock and a large white building in the background <END>\n",
            "  <START> a boat pear with people boarding and disembarking some boats <END>\n",
            "  <START> a group of people on a dock by a city boarding various boats <END>\n",
            "\n",
            "Image: 3014615499.jpg\n",
            "  <START> a man in a red shirt is being filmed by another man on a sports field with a huge audience of people watching and cheering <END>\n",
            "  <START> a man in athletic attire walks across a green grassy sports field while cameramen look on <END>\n",
            "  <START> a lone soccer player being spectated by many out on the field <END>\n",
            "  <START> a guy is running on a soccer field by a filmier <END>\n",
            "  <START> the crowd cheers a player on the field <END>\n",
            "\n",
            "Image: 2563482243.jpg\n",
            "  <START> a male utility worker wearing a ski mask gloves and a yellow jacket standing in a utility lift near the tops of trees and an electrical transformer <END>\n",
            "  <START> a man with a ski cap and neon yellow jacket looking down with a tree behind him <END>\n",
            "  <START> worker being lifted up in a cherry picker to perform work during cold weather <END>\n",
            "  <START> a man bundled up in the cold weather up in a bucket working on a power line <END>\n",
            "  <START> a man dressed in yellow is in a cherry picker next to a stoplight <END>\n",
            "\n",
            "Image: 6468440411.jpg\n",
            "  <START> a bearded man leans back and smokes a cigarette while the sun sets over a body of water in the background <END>\n",
            "  <START> a man is lying down next to a river and smoking a cigarette <END>\n",
            "  <START> a young man leans his head back as he smokes during sunset <END>\n",
            "  <START> a man leaning back smoking a cigarette near the water <END>\n",
            "  <START> a man is smoking at sunset <END>\n",
            "\n",
            "Image: 4972936619.jpg\n",
            "  <START> two women one younger than the other sitting inside the back of an open truck eating a meal out of plastic containers <END>\n",
            "  <START> two female workers take a break from their job to eat <END>\n",
            "  <START> two woman are sitting in the back of a truck eating <END>\n",
            "  <START> two women are sitting in the back of a truck <END>\n",
            "  <START> two ladies eating out of a truck <END>\n"
          ]
        }
      ]
    },
    {
      "cell_type": "markdown",
      "source": [
        "## Checking seqs"
      ],
      "metadata": {
        "id": "nc0ZrmVxodgW"
      }
    },
    {
      "cell_type": "code",
      "source": [
        "with open(os.path.join(local_out_caption, \"sequences_train.json\"), \"r\") as f:\n",
        "    sequences_train = json.load(f)\n",
        "\n",
        "# Show first image sequence\n",
        "first_img = list(sequences_train.keys())[0]\n",
        "print(\"\\nFirst training image:\", first_img)\n",
        "print(\"Sequences (word indices):\", sequences_train[first_img])\n"
      ],
      "metadata": {
        "colab": {
          "base_uri": "https://localhost:8080/"
        },
        "id": "_BX_9Muqog0u",
        "outputId": "f2e29034-3538-4aef-806b-7adad5856b1f"
      },
      "execution_count": null,
      "outputs": [
        {
          "output_type": "stream",
          "name": "stdout",
          "text": [
            "\n",
            "First training image: 3328495660.jpg\n",
            "Sequences (word indices): [[5, 45, 15, 571, 4065, 9, 4, 1, 27, 80, 15, 2956, 4, 1, 114, 6, 0, 0, 0, 0, 0, 0, 0, 0, 0, 0, 0, 0, 0, 0], [5, 16, 93, 1, 4, 861, 30, 7, 1500, 402, 6, 0, 0, 0, 0, 0, 0, 0, 0, 0, 0, 0, 0, 0, 0, 0, 0, 0, 0, 0], [5, 47, 18, 17, 402, 259, 4, 95, 2836, 6, 0, 0, 0, 0, 0, 0, 0, 0, 0, 0, 0, 0, 0, 0, 0, 0, 0, 0, 0, 0], [5, 47, 49, 156, 137, 83, 3011, 1056, 6, 0, 0, 0, 0, 0, 0, 0, 0, 0, 0, 0, 0, 0, 0, 0, 0, 0, 0, 0, 0, 0], [5, 47, 49, 156, 7, 4, 1500, 6, 0, 0, 0, 0, 0, 0, 0, 0, 0, 0, 0, 0, 0, 0, 0, 0, 0, 0, 0, 0, 0, 0]]\n"
          ]
        }
      ]
    },
    {
      "cell_type": "markdown",
      "source": [
        "# Saving to drive"
      ],
      "metadata": {
        "id": "KKl1maEsnjC6"
      }
    },
    {
      "cell_type": "code",
      "source": [
        "import shutil\n",
        "import os\n",
        "\n",
        "if os.path.exists(drive_out_caption):\n",
        "    shutil.rmtree(drive_out_caption)\n",
        "\n",
        "shutil.copytree(local_out_caption, drive_out_caption)\n",
        "print(\"Saved preprocessed captions to Drive at:\", drive_out_caption)"
      ],
      "metadata": {
        "id": "BouGUtKum6NI",
        "colab": {
          "base_uri": "https://localhost:8080/"
        },
        "outputId": "7917b1f2-e8d5-4da7-bf6b-667262c340fb"
      },
      "execution_count": null,
      "outputs": [
        {
          "output_type": "stream",
          "name": "stdout",
          "text": [
            "Saved preprocessed captions to Drive at: /content/drive/MyDrive/captioneer/processed_captions\n"
          ]
        }
      ]
    },
    {
      "cell_type": "markdown",
      "source": [
        "# Processing Images\n",
        "needs preprocess_images.py for running"
      ],
      "metadata": {
        "id": "SS3rM5njwo1e"
      }
    },
    {
      "cell_type": "code",
      "source": [
        "from preprocess_images import preprocess_images\n",
        "\n",
        "img_dir = '/root/.cache/kagglehub/datasets/eeshawn/flickr30k/versions/1/flickr30k_images' # update with your dataset path\n",
        "local_out_img = '/content/processed_images' # local output\n",
        "drive_out_img = '/content/drive/MyDrive/captioneer/processed_images' # optional for saving to google drive\n",
        "\n",
        "result = preprocess_images(img_dir, local_out_img)\n",
        "print(f\"Extracted features for {result['num_images']} images\")\n"
      ],
      "metadata": {
        "colab": {
          "base_uri": "https://localhost:8080/"
        },
        "id": "sxiK3vQVwrO_",
        "outputId": "cb20ec79-a972-44bd-ba14-742b74eefe53"
      },
      "execution_count": null,
      "outputs": [
        {
          "output_type": "stream",
          "name": "stdout",
          "text": [
            "Downloading: \"https://download.pytorch.org/models/resnet50-0676ba61.pth\" to /root/.cache/torch/hub/checkpoints/resnet50-0676ba61.pth\n"
          ]
        },
        {
          "output_type": "stream",
          "name": "stderr",
          "text": [
            "100%|██████████| 97.8M/97.8M [00:00<00:00, 176MB/s]\n"
          ]
        },
        {
          "output_type": "stream",
          "name": "stdout",
          "text": [
            "Extracted features for 31783 images\n"
          ]
        }
      ]
    },
    {
      "cell_type": "markdown",
      "source": [
        "# Checking Features"
      ],
      "metadata": {
        "id": "oqeHaUEQ4Bsu"
      }
    },
    {
      "cell_type": "code",
      "source": [
        "import numpy as np\n",
        "import os\n",
        "\n",
        "sample_file = os.path.join(local_out_img, '1000092795.npy')\n",
        "feat = np.load(sample_file)\n",
        "print(\"Feature shape:\", feat.shape)  # should be (2048,)\n"
      ],
      "metadata": {
        "colab": {
          "base_uri": "https://localhost:8080/"
        },
        "id": "d6Slvhl-4CCT",
        "outputId": "2f753631-75fb-4cee-f8e9-9f825afd8aa7"
      },
      "execution_count": null,
      "outputs": [
        {
          "output_type": "stream",
          "name": "stdout",
          "text": [
            "Feature shape: (2048,)\n"
          ]
        }
      ]
    },
    {
      "cell_type": "markdown",
      "source": [
        "# Saving to drive"
      ],
      "metadata": {
        "id": "G3HTCWCo2cNE"
      }
    },
    {
      "cell_type": "code",
      "source": [
        "shutil.copytree(local_out_img, drive_out_img)\n",
        "print(f\"Copied features to Drive at {drive_out_img}\")"
      ],
      "metadata": {
        "id": "QvL12Gvs1rIj",
        "colab": {
          "base_uri": "https://localhost:8080/"
        },
        "outputId": "9af62aa3-bfcd-424e-b433-d179bdd60f04"
      },
      "execution_count": null,
      "outputs": [
        {
          "output_type": "stream",
          "name": "stdout",
          "text": [
            "Copied features to Drive at /content/drive/MyDrive/captioneer/processed_images\n"
          ]
        }
      ]
    },
    {
      "cell_type": "markdown",
      "source": [
        "# Creating tar.gz file\n",
        "note: there may be some problems while copying the archive from colab storage to drive, sometimes the archive file exists in the drive when viewed in colab file manager, but not when viewed in the google drive website, if this happens you may need to download and upload the file to drive manually (~225mb)"
      ],
      "metadata": {
        "id": "Py6R_PbDJ_xV"
      }
    },
    {
      "cell_type": "code",
      "source": [
        "local_images_dir = \"/content/processed_images\"     # local folder with .npy files\n",
        "drive_base = \"/content/drive/MyDrive/captioneer\"   # change if your project folder is in a different location\n",
        "drive_images_dir = \"/content/drive/MyDrive/captioneerprocessed_images\"\n",
        "archive_local = \"/content/processed_images.tar.gz\"\n",
        "archive_drive = \"/content/drive/MyDrive/captioneerprocessed_images.tar.gz\"\n",
        "overwrite_files_on_drive = False   # set True to overwrite existing .npy files on Drive, False to skip existing\n",
        "\n",
        "os.makedirs(drive_base, exist_ok=True)\n",
        "os.makedirs(drive_images_dir, exist_ok=True)\n",
        "\n",
        "# remove any existing local archive first\n",
        "if os.path.exists(archive_local):\n",
        "    os.remove(archive_local)\n",
        "\n",
        "print(\"Creating local archive\")\n",
        "shutil.make_archive(base_name=\"/content/processed_images\", format=\"gztar\", root_dir=local_images_dir)\n",
        "print(\"Local archive created at:\", archive_local)\n",
        "\n",
        "# move archive to Drive (overwrite if exists)\n",
        "if os.path.exists(archive_drive):\n",
        "    print(\"Existing archive found on Drive; it will be overwritten.\")\n",
        "    os.remove(archive_drive)\n",
        "shutil.move(archive_local, archive_drive)\n",
        "print(\"Moved archive to Drive at:\", archive_drive)"
      ],
      "metadata": {
        "id": "zxODVeXb8wLP"
      },
      "execution_count": null,
      "outputs": []
    }
  ]
}